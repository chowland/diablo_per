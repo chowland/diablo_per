{
 "cells": [
  {
   "cell_type": "code",
   "execution_count": 19,
   "metadata": {},
   "outputs": [],
   "source": [
    "import numpy as np\n",
    "import h5py\n",
    "\n",
    "import hdf5_combine as h5c\n",
    "#reload(h5c)\n",
    "import hdf5_read as h5r\n",
    "\n",
    "# This is the directory containing the output files you want to extend\n",
    "dir1='/local/scratch/public/cjh225/v2_peta4/Feb2019/R_force/'\n",
    "#dir1='/local/scratch/public/cjh225/v2_peta4/Feb2019/noF_start/'\n",
    "\n",
    "\n",
    "# This is the directory with the new data to be added\n",
    "dir2='/local/scratch/public/cjh225/v2_peta4/Feb2019/R_force/t21/'\n",
    "#dir2='/local/scratch/public/cjh225/v2_peta4/Feb2019/noF_start/t2/'\n",
    "\n",
    "\n",
    "Safe=True\n",
    "\n",
    "f=open(dir1+'contents.txt','r')\n",
    "for line in f:\n",
    "    if dir2[len(dir1):-1]==line[:-1]:\n",
    "        print('WARNING: '+dir2[len(dir1):-1]+' already in combined file!')\n",
    "        Safe=False\n",
    "f.close()"
   ]
  },
  {
   "cell_type": "code",
   "execution_count": 20,
   "metadata": {},
   "outputs": [],
   "source": [
    "if Safe:\n",
    "    h5c.c_stats(dir1,dir2)\n",
    "    h5c.c_mean(dir1,dir2)\n",
    "    h5c.c_spectra(dir1,dir2)\n",
    "    h5c.c_movie(dir1,dir2)\n",
    "    with open(dir1+\"contents.txt\",\"a\") as f:\n",
    "        f.write(dir2[len(dir1):-1]+'\\n')\n",
    "else:\n",
    "    print('No action taken')"
   ]
  },
  {
   "cell_type": "code",
   "execution_count": 21,
   "metadata": {},
   "outputs": [
    {
     "name": "stdout",
     "output_type": "stream",
     "text": [
      "t1\n",
      "t2\n",
      "t3\n",
      "t4\n",
      "t5\n",
      "t6\n",
      "t7\n",
      "t8\n",
      "t9\n",
      "t10\n",
      "t11\n",
      "t12\n",
      "t13\n",
      "t14\n",
      "t15\n",
      "t16\n",
      "t17\n",
      "t18\n",
      "t19\n",
      "t20\n",
      "t21\n"
     ]
    }
   ],
   "source": [
    "with open(dir1+\"contents.txt\",\"r\") as f:\n",
    "    for line in f:\n",
    "        print(line[:-1])"
   ]
  },
  {
   "cell_type": "code",
   "execution_count": null,
   "metadata": {
    "collapsed": true
   },
   "outputs": [],
   "source": []
  }
 ],
 "metadata": {
  "kernelspec": {
   "display_name": "Python 3",
   "language": "python",
   "name": "python3"
  },
  "language_info": {
   "codemirror_mode": {
    "name": "ipython",
    "version": 3
   },
   "file_extension": ".py",
   "mimetype": "text/x-python",
   "name": "python",
   "nbconvert_exporter": "python",
   "pygments_lexer": "ipython3",
   "version": "3.5.2"
  }
 },
 "nbformat": 4,
 "nbformat_minor": 1
}
