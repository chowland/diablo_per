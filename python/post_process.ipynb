{
 "cells": [
  {
   "cell_type": "markdown",
   "metadata": {
    "deletable": true,
    "editable": true
   },
   "source": [
    "# Post-processing notebook"
   ]
  },
  {
   "cell_type": "markdown",
   "metadata": {
    "deletable": true,
    "editable": true
   },
   "source": [
    "## Load and calculate variables from output files"
   ]
  },
  {
   "cell_type": "markdown",
   "metadata": {
    "deletable": true,
    "editable": true
   },
   "source": [
    "Load modules, and set run directory"
   ]
  },
  {
   "cell_type": "code",
   "execution_count": null,
   "metadata": {
    "collapsed": false,
    "deletable": true,
    "editable": true
   },
   "outputs": [],
   "source": [
    "import numpy as np\n",
    "import h5py\n",
    "import matplotlib.pyplot as plt\n",
    "import cmocean\n",
    "%config InlineBackend.figure_format = 'retina'\n",
    "\n",
    "rundir='../example_run/'\n",
    "\n",
    "import matplotlib as mpl\n",
    "mpl.rcParams['figure.figsize'] = [8.0, 6.0]\n",
    "mpl.rcParams['figure.dpi'] = 100"
   ]
  },
  {
   "cell_type": "markdown",
   "metadata": {
    "deletable": true,
    "editable": true
   },
   "source": [
    "Read variables in from HDF5 files"
   ]
  },
  {
   "cell_type": "code",
   "execution_count": null,
   "metadata": {
    "collapsed": false,
    "deletable": true,
    "editable": true
   },
   "outputs": [],
   "source": [
    "import hdf5_read as h5r\n",
    "\n",
    "Re, Ri_t, Pr = h5r.read_input(rundir)\n",
    "\n",
    "tii, U1rms, U2rms, U3rms, THrms, THflux, eps_av, chi_av = h5r.read_stat(rundir)\n",
    "\n",
    "U1me, U3me, THme, epsilon, chi, THflux, U1U2, U3U2, U1U1, U2U2, U3U3, THTH, nk, ny = h5r.read_mean(rundir)\n",
    "\n",
    "E1, E2, E3, ETH, nky = h5r.read_spectra(rundir)"
   ]
  },
  {
   "cell_type": "markdown",
   "metadata": {
    "deletable": true,
    "editable": true
   },
   "source": [
    "Calculate more volume-averaged quantities from the stats.h5 variables"
   ]
  },
  {
   "cell_type": "code",
   "execution_count": null,
   "metadata": {
    "collapsed": false,
    "deletable": true,
    "editable": true
   },
   "outputs": [],
   "source": [
    "L_K_av=(Re**3*eps_av)**(-1./4)\n",
    "EK_av=0.5*(U1rms**2+U2rms**2+U3rms**2)\n",
    "EP_av=0.5*Ri_t*THrms**2\n",
    "Re_lambda=EK_av*np.sqrt(15*Re/eps_av)\n",
    "Re_b_av=eps_av*Re/Ri_t\n",
    "eta_i=chi_av/(chi_av+eps_av)\n",
    "eta_c=np.zeros(tii.shape)\n",
    "eta_c[0]=eta_i[0]\n",
    "for i in range(1,tii.size):\n",
    "    eta_c[i]=np.trapz(chi_av[:i+1],x=tii[:i+1])/(np.trapz(chi_av[:i+1],x=tii[:i+1])+np.trapz(eps_av[:i+1],x=tii[:i+1]))"
   ]
  },
  {
   "cell_type": "markdown",
   "metadata": {
    "deletable": true,
    "editable": true
   },
   "source": [
    "Calculate horizontally-averaged quantities from the mean.h5 variables"
   ]
  },
  {
   "cell_type": "code",
   "execution_count": null,
   "metadata": {
    "collapsed": true,
    "deletable": true,
    "editable": true
   },
   "outputs": [],
   "source": [
    "# Energy\n",
    "EKme=0.5*(U1me**2+U3me**2)\n",
    "EK=0.5*(U1U1**2+U2U2**2+U3U3**2)\n",
    "EPme=Ri_t/2*THme**2\n",
    "EP=Ri_t/2*THTH**2\n",
    "\n",
    "# Shear\n",
    "CIKY=1j*np.concatenate(\n",
    "    (np.arange(np.ceil((ny+1)/2)), np.arange(np.ceil(-(ny-1)/2),0.)))\n",
    "import numpy.fft as ft\n",
    "CS1=ft.fft(U1me,axis=1)\n",
    "CS1=CIKY*CS1\n",
    "DU1DY=np.real(ft.ifft(CS1,axis=1))\n",
    "\n",
    "CS1=ft.fft(U3me,axis=1)\n",
    "CS1=CIKY*CS1\n",
    "DU3DY=np.real(ft.ifft(CS1,axis=1))\n",
    "\n",
    "S2=DU1DY**2+DU3DY**2\n",
    "S_p=U1U2*DU1DY+U3U2*DU3DY\n",
    "\n",
    "# Stratification\n",
    "CS1=ft.fft(THme,axis=1)\n",
    "CS1=CIKY*CS1\n",
    "DTHDY=np.real(ft.ifft(CS1,axis=1))\n",
    "N2=Ri_t*(1+DTHDY)\n",
    "\n",
    "# Length scales\n",
    "L_K=(Re**3*epsilon)**(-1./4)\n",
    "L_O=epsilon**0.5*N2**-0.75\n",
    "L_b=U2U2/np.sqrt(N2)\n",
    "L_E=THTH/N2\n",
    "L_C=epsilon**0.5*S2**-0.75\n",
    "\n",
    "Re_b=Re*epsilon/N2\n",
    "Ri_g=N2/S2\n",
    "Fr_t=epsilon/np.sqrt(N2)/EK\n",
    "K_rho=chi/N2**2"
   ]
  },
  {
   "cell_type": "markdown",
   "metadata": {
    "deletable": true,
    "editable": true
   },
   "source": [
    "Calculate volume-averaged quantities from the vertical profiles"
   ]
  },
  {
   "cell_type": "code",
   "execution_count": null,
   "metadata": {
    "collapsed": true,
    "deletable": true,
    "editable": true
   },
   "outputs": [],
   "source": [
    "EK_bar=np.mean(EKme,axis=1)\n",
    "eps_bar=1/Re*np.mean(S2,axis=1)\n",
    "L_O_av=np.mean(L_O,axis=1)\n",
    "Ri_g_av=np.mean(N2,axis=1)/np.mean(S2,axis=1)"
   ]
  },
  {
   "cell_type": "markdown",
   "metadata": {
    "deletable": true,
    "editable": true
   },
   "source": [
    "## Plotting examples"
   ]
  },
  {
   "cell_type": "markdown",
   "metadata": {
    "deletable": true,
    "editable": true
   },
   "source": [
    "#### Time series (e.g. dissipation rate)"
   ]
  },
  {
   "cell_type": "code",
   "execution_count": null,
   "metadata": {
    "collapsed": false,
    "deletable": true,
    "editable": true
   },
   "outputs": [],
   "source": [
    "plt.rc('text', usetex=True)\n",
    "plt.rc('font', family='serif', size=16)\n",
    "\n",
    "plt.figure(1)\n",
    "plt.plot(tii, eps_bar+eps_av+chi_av,'k', label='Total')\n",
    "plt.plot(tii, eps_bar,'r', label='$\\overline{\\epsilon}$')\n",
    "plt.plot(tii, eps_av,'g', label='$\\epsilon$')\n",
    "plt.plot(tii, chi_av,'b', label='$\\chi$')\n",
    "\n",
    "plt.xlabel('$t$')\n",
    "plt.ylabel('Dissipation rate')\n",
    "plt.ylim([0, np.max(eps_bar+eps_av+chi_av)])\n",
    "plt.xlim([tii[0], tii[-1]])\n",
    "plt.ticklabel_format(style='sci', axis='y', scilimits=(0,0))\n",
    "\n",
    "plt.legend()\n",
    "#plt.savefig('dissipation.svg',format='svg')\n",
    "plt.show()"
   ]
  },
  {
   "cell_type": "markdown",
   "metadata": {
    "deletable": true,
    "editable": true
   },
   "source": [
    "#### Hovm&ouml;ller plot of vertical profiles with time (e.g. vertical diffusivity)"
   ]
  },
  {
   "cell_type": "code",
   "execution_count": null,
   "metadata": {
    "collapsed": false,
    "deletable": true,
    "editable": true
   },
   "outputs": [],
   "source": [
    "yvec=np.linspace(2*np.pi/ny,2*np.pi,ny)\n",
    "\n",
    "plt.figure(2,figsize=(12.0,6.0))\n",
    "plt.pcolormesh(tii,yvec,K_rho.T, cmap=cmocean.cm.tempo, vmin=0)\n",
    "\n",
    "c = plt.colorbar()\n",
    "c.formatter.set_powerlimits((0, 0))\n",
    "c.update_ticks()\n",
    "\n",
    "plt.yticks([2*np.pi/ny,np.pi,2*np.pi],('0','$\\pi$','$2\\pi$'))\n",
    "plt.ticklabel_format(style='sci', axis='c', scilimits=(0,0))\n",
    "plt.xlabel('$t$')\n",
    "plt.ylabel('$z$')\n",
    "plt.title('Vertical diffusivity $K_\\\\rho=\\chi/(d\\\\rho/dz)^2$')\n",
    "\n",
    "plt.show()"
   ]
  },
  {
   "cell_type": "markdown",
   "metadata": {
    "deletable": true,
    "editable": true
   },
   "source": [
    "#### Vertical wavenumber spectrum at a single time (e.g. kinetic energy spectrum)"
   ]
  },
  {
   "cell_type": "code",
   "execution_count": null,
   "metadata": {
    "collapsed": false,
    "deletable": true,
    "editable": true
   },
   "outputs": [],
   "source": [
    "KY=np.arange(nky+1)\n",
    "\n",
    "plt.figure(3)\n",
    "idx=100;\n",
    "plt.loglog(KY,(E1[idx]+E2[idx]+E3[idx]),'k',label='Total')\n",
    "plt.loglog(KY,E1[idx],'r',label='U1')\n",
    "plt.loglog(KY,E2[idx],'g',label='U2')\n",
    "plt.loglog(KY,E3[idx],'b',label='U3')\n",
    "#plt.loglog(KY[1:11],0.1*KY[1:11]**(-2.),'k--')\n",
    "#plt.ylim([1e-6, 1e-1])\n",
    "plt.legend()\n",
    "plt.title('Kinetic energy spectrum at time $t='+'{:.2f}'.format(tii[i])+'$')\n",
    "plt.xlabel('$|m|$')\n",
    "plt.ylabel('$E(|m|)$')\n",
    "\n",
    "plt.show()"
   ]
  },
  {
   "cell_type": "markdown",
   "metadata": {
    "deletable": true,
    "editable": true
   },
   "source": [
    "#### Time series for checking energy input rate from forcing"
   ]
  },
  {
   "cell_type": "code",
   "execution_count": null,
   "metadata": {
    "collapsed": false,
    "deletable": true,
    "editable": true
   },
   "outputs": [],
   "source": [
    "E=EK_bar+EK_av+EP_av\n",
    "dEdt=(E[2:]-E[:-2])/(tii[2:]-tii[:-2])\n",
    "P=dEdt+eps_av[1:-1]+chi_av[1:-1]+eps_bar[1:-1]\n",
    "Reb_T=10\n",
    "\n",
    "plt.figure(4)\n",
    "plt.plot(tii[1:-1], P)\n",
    "plt.plot(tii, np.ones(np.size(tii))*Reb_T*Ri_t/Re,'k--')\n",
    "plt.ylim([0, 1.2*Reb_T*Ri_t/Re])\n",
    "plt.ticklabel_format(style='sci', axis='y', scilimits=(0,0))\n",
    "\n",
    "plt.xlabel('$t$')\n",
    "plt.ylabel('$dE/dt+\\overline{\\epsilon}+\\epsilon+\\chi\\\\approx P$')\n",
    "\n",
    "plt.show()"
   ]
  },
  {
   "cell_type": "markdown",
   "metadata": {
    "deletable": true,
    "editable": true
   },
   "source": [
    "## Write out movie from movie_ab.h5"
   ]
  },
  {
   "cell_type": "code",
   "execution_count": null,
   "metadata": {
    "collapsed": true,
    "deletable": true,
    "editable": true
   },
   "outputs": [],
   "source": [
    "import read_movie\n",
    "\n",
    "plane='xy'\n",
    "var='TH1'\n",
    "\n",
    "read_movie.make_movie(rundir,plane,var)"
   ]
  },
  {
   "cell_type": "markdown",
   "metadata": {
    "collapsed": false,
    "deletable": true,
    "editable": true
   },
   "source": [
    "ffmpeg can be used to combine the resulting images (stored in the subdirectory ./tmp/) into a single video, e.g. using the command\n",
    "\n",
    "ffmpeg -i tmp/%*.png -crf 17 movie.mp4"
   ]
  }
 ],
 "metadata": {
  "kernelspec": {
   "display_name": "Python 2",
   "language": "python",
   "name": "python2"
  },
  "language_info": {
   "codemirror_mode": {
    "name": "ipython",
    "version": 2
   },
   "file_extension": ".py",
   "mimetype": "text/x-python",
   "name": "python",
   "nbconvert_exporter": "python",
   "pygments_lexer": "ipython2",
   "version": "2.7.12"
  }
 },
 "nbformat": 4,
 "nbformat_minor": 2
}
