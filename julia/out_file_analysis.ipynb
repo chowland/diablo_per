{
 "cells": [
  {
   "cell_type": "code",
   "execution_count": null,
   "metadata": {},
   "outputs": [],
   "source": [
    "using Plots\n",
    "using HDF5\n",
    "using FFTW\n",
    "using Statistics\n",
    "using LaTeXStrings\n",
    "using StatsBase\n",
    "using LinearAlgebra"
   ]
  },
  {
   "cell_type": "code",
   "execution_count": null,
   "metadata": {},
   "outputs": [],
   "source": [
    "fname=\"/local/scratch/public/cjh225/v2_peta4/Feb2019/P_force/t8/start.h5\""
   ]
  },
  {
   "cell_type": "code",
   "execution_count": null,
   "metadata": {},
   "outputs": [],
   "source": [
    "# using Profile\n",
    "# @profile out_analysis.out2chi(fname)\n",
    "# typeof(chi)\n",
    "\n",
    "Re, Ri_t, Pr = 1e4, 1, 1\n",
    "\n",
    "f = h5open(fname,\"r\")\n",
    "(NX,NY,NZ) = size(f[\"TH1\"])\n",
    "S1 = read(f[\"TH1\"])\n",
    "close(f)\n",
    "println(\"Loaded TH variable\")\n",
    "\n",
    "# chi = zeros(NX,NY,NZ)\n",
    "\n",
    "N2 = zeros(NX,NY,NZ)\n",
    "\n",
    "for k=1:NZ\n",
    "    tmp = [S1[:,end-31:end,k] S1[:,:,k] S1[:,1:32,k]]\n",
    "    N2[:,:,k] = (tmp[:,65:end] - tmp[:,1:end-64]) ./ (64*2*pi/NY) .+ 1\n",
    "end\n",
    "println(\"Computed finite difference N²\")\n",
    "\n",
    "# Sme = mean(S1,dims=(1,3))\n",
    "# S1 = S1.-Sme\n",
    "\n",
    "FFTW.set_num_threads(32)\n",
    "ft1 = plan_rfft(S1[:,:,1],1)\n",
    "ft2 = plan_rfft(S1[:,:,1],2)\n",
    "ft3 = plan_rfft(S1[:,1,:],2)\n",
    "\n",
    "CIKX=im*(0:NX÷2)\n",
    "CIKY=reshape(im*(0:NY÷2),(1,NY÷2+1))\n",
    "CIKZ=reshape(im*(0:NZ÷2),(1,NZ÷2+1))\n",
    "\n",
    "# for k=1:NZ\n",
    "#     CS1 = ft1 * S1[:,:,k]\n",
    "#     CS1 = CIKX.*CS1\n",
    "#     chi[:,:,k] += (inv(ft1) * CS1).^2\n",
    "# end\n",
    "# println(\"Computed 1st derivative\")\n",
    "\n",
    "# for k=1:NZ\n",
    "#     CS1 = ft2 * S1[:,:,k]\n",
    "#     CS1 = CIKY.*CS1\n",
    "#     chi[:,:,k] += (inv(ft2) * CS1).^2\n",
    "# end\n",
    "# println(\"Computed 2nd derivative\")\n",
    "\n",
    "# for j=1:NY\n",
    "#     CS1 = ft3 * S1[:,j,:]\n",
    "#     CS1 = CIKZ.*CS1\n",
    "#     chi[:,j,:] += (inv(ft3) * CS1).^2\n",
    "# end\n",
    "# println(\"Computed 3rd derivative\")\n",
    "\n",
    "# chi *= Ri_t/Re/Pr\n",
    "\n",
    "S1 = nothing\n",
    "\n",
    "GC.gc()"
   ]
  },
  {
   "cell_type": "code",
   "execution_count": null,
   "metadata": {},
   "outputs": [],
   "source": [
    "varinfo()"
   ]
  },
  {
   "cell_type": "code",
   "execution_count": null,
   "metadata": {},
   "outputs": [],
   "source": [
    "dname=(\"U1\",\"U2\",\"U3\")\n",
    "eps, EK = zeros(NX,NY,NZ), zeros(NX,NY,NZ)\n",
    "\n",
    "for i=1:3\n",
    "    f = h5open(fname,\"r\")\n",
    "    S1 = read(f[dname[i]])\n",
    "    close(f)\n",
    "    println(\"Loaded U$(i) variable\")\n",
    "    \n",
    "    if mod(i,2)==1\n",
    "        Sme = mean(S1,dims=(1,3))\n",
    "        S1 = S1.-Sme\n",
    "    end\n",
    "    EK += 0.5*S1.^2\n",
    "    println(\"TKE computed\")\n",
    "\n",
    "    for k=1:NZ\n",
    "        CS1 = ft1 * S1[:,:,k]\n",
    "        CS1 = CIKX.*CS1\n",
    "        eps[:,:,k] += (inv(ft1) * CS1).^2\n",
    "    end\n",
    "    println(\"Computed 1st derivative\")\n",
    "\n",
    "    for k=1:NZ\n",
    "        CS1 = ft2 * S1[:,:,k]\n",
    "        CS1 = CIKY.*CS1\n",
    "        eps[:,:,k] += (inv(ft2) * CS1).^2\n",
    "    end\n",
    "    println(\"Computed 2nd derivative\")\n",
    "\n",
    "    for j=1:NY\n",
    "        CS1 = ft3 * S1[:,j,:]\n",
    "        CS1 = CIKZ.*CS1\n",
    "        eps[:,j,:] += (inv(ft3) * CS1).^2\n",
    "    end\n",
    "    println(\"Computed 3rd derivative\")\n",
    "end\n",
    "\n",
    "eps/=Re\n",
    "S1=nothing\n",
    "\n",
    "GC.gc()"
   ]
  },
  {
   "cell_type": "code",
   "execution_count": null,
   "metadata": {},
   "outputs": [],
   "source": [
    "# GC.gc()\n",
    "heatmap(transpose(Fr[:,:,1]),c=:tempo,clim=(0,0.01))\n",
    "# histogram(Fr[:,:,1][:])\n",
    "# pgfplots()\n",
    "# histogram(log10.(chi[:]),bins=-8:0.1:-1)\n",
    "# size(CS1)\n",
    "#varinfo()\n",
    "#backend()\n"
   ]
  },
  {
   "cell_type": "code",
   "execution_count": null,
   "metadata": {},
   "outputs": [],
   "source": [
    "eps_edges = -8:1/64:-1\n",
    "chi_edges = -8:1/64:-1\n",
    "\n",
    "for i=1:NZ\n",
    "    global G\n",
    "    h = fit(Histogram, (log10.(eps[:,:,i][:]), log10.(chi[:,:,i][:])), (eps_edges,chi_edges))\n",
    "    if i==1\n",
    "        G = h\n",
    "    else\n",
    "        merge!(G,h)\n",
    "    end\n",
    "end\n",
    "G = normalize(G, mode=:pdf)"
   ]
  },
  {
   "cell_type": "code",
   "execution_count": null,
   "metadata": {},
   "outputs": [],
   "source": [
    "plotly()\n",
    "heatmap(G,c=:amp,aspect_ratio=:equal)"
   ]
  },
  {
   "cell_type": "code",
   "execution_count": null,
   "metadata": {},
   "outputs": [],
   "source": [
    "mname = \"$(fname[1:end-8])mean.h5\"\n",
    "h5open(mname,\"r\") do f\n",
    "    global THme\n",
    "    THme = read(f[\"THme/0000\"])\n",
    "end\n",
    "# size(THme)\n",
    "fty = plan_rfft(THme,1)\n",
    "CS1 = fty * THme\n",
    "CS1 = CIKX .* CS1\n",
    "N2me = 1 .+ inv(fty) * CS1\n",
    "N2me = reshape(N2,(1,NY))"
   ]
  },
  {
   "cell_type": "code",
   "execution_count": null,
   "metadata": {},
   "outputs": [],
   "source": [
    "# N2 = N2 .* (N2 .> 0)\n",
    "Fr = (eps ./ EK).^2 ./ N2\n",
    "# Gamma = chi ./ eps\n",
    "for i=1:1024\n",
    "    for j=1:1024\n",
    "        for k=1:1024\n",
    "            if Fr[i,j,k]<=0; Fr[i,j,k]=1e-10; end\n",
    "        end\n",
    "    end\n",
    "end"
   ]
  },
  {
   "cell_type": "code",
   "execution_count": null,
   "metadata": {},
   "outputs": [],
   "source": [
    "Fr_edges = -4:1/64:1\n",
    "Gamma_edges = -3:1/64:1\n",
    "\n",
    "for i=1:NZ\n",
    "    global G2\n",
    "    h = fit(Histogram, (log10.(Fr[:,:,i][:]), log10.(Gamma[:,:,i][:])), (Fr_edges,Gamma_edges))\n",
    "    if i==1\n",
    "        G2 = h\n",
    "    else\n",
    "        merge!(G2,h)\n",
    "    end\n",
    "end\n",
    "G2 = normalize(G2, mode=:pdf)"
   ]
  },
  {
   "cell_type": "code",
   "execution_count": null,
   "metadata": {},
   "outputs": [],
   "source": [
    "heatmap(Fr_edges[2:end],Gamma_edges[2:end],transpose(G2.weights),aspect_ratio=:equal,c=:amp)"
   ]
  },
  {
   "cell_type": "code",
   "execution_count": null,
   "metadata": {},
   "outputs": [],
   "source": [
    "eps_edges = -8:1/64:-1\n",
    "chi_edges = -8:1/64:-1\n",
    "\n",
    "# varinfo()\n",
    "Fr_bin = zeros(length(eps_edges)-1,length(chi_edges)-1)\n",
    "N = zeros(length(eps_edges)-1,length(chi_edges)-1)\n",
    "\n",
    "for i=1:1024\n",
    "    for j=1:1024\n",
    "        for k=1:1024\n",
    "            if ~isnan(Fr[i,j,k])\n",
    "                idx = floor(Int, (log10(eps[i,j,k])-eps_edges[1])*64+1)\n",
    "                jdx = floor(Int, (log10(chi[i,j,k])-chi_edges[1])*64+1)\n",
    "                idx = min(size(N,1), idx)\n",
    "                idx = max(1, idx)\n",
    "                jdx = min(size(N,2), jdx)\n",
    "                jdx = max(1, jdx)\n",
    "                Fr_bin[idx,jdx] += log10(Fr[i,j,k])\n",
    "                N[idx,jdx] += 1\n",
    "            end\n",
    "        end\n",
    "    end\n",
    "end\n",
    "Fr_bin = Fr_bin ./ N"
   ]
  },
  {
   "cell_type": "code",
   "execution_count": null,
   "metadata": {},
   "outputs": [],
   "source": [
    "heatmap(transpose(Fr_bin),aspect_ratio=:equal,c=:amp)"
   ]
  },
  {
   "cell_type": "code",
   "execution_count": null,
   "metadata": {},
   "outputs": [],
   "source": [
    "heatmap(transpose(G2.weights),aspect_ratio=:equal,c=:amp)"
   ]
  },
  {
   "cell_type": "code",
   "execution_count": null,
   "metadata": {},
   "outputs": [],
   "source": [
    "eps_edges = -8:1/64:-1\n",
    "N2_edges = -1:1/64:1\n",
    "\n",
    "for i=1:NZ\n",
    "    global G\n",
    "    h = fit(Histogram, (log10.(eps[:,:,i][:]), log10.(N2[:,:,i][:])), (eps_edges,N2_edges))\n",
    "    if i==1\n",
    "        G = h\n",
    "    else\n",
    "        merge!(G,h)\n",
    "    end\n",
    "end\n",
    "G = normalize(G, mode=:pdf)"
   ]
  },
  {
   "cell_type": "code",
   "execution_count": null,
   "metadata": {},
   "outputs": [],
   "source": [
    "N2=nothing\n",
    "EK=nothing\n",
    "GC.gc()"
   ]
  }
 ],
 "metadata": {
  "kernelspec": {
   "display_name": "Julia 1.0.0",
   "language": "julia",
   "name": "julia-1.0"
  },
  "language_info": {
   "file_extension": ".jl",
   "mimetype": "application/julia",
   "name": "julia",
   "version": "1.0.0"
  }
 },
 "nbformat": 4,
 "nbformat_minor": 2
}
